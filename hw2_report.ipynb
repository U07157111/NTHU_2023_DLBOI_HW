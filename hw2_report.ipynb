{
  "cells": [
    {
      "cell_type": "markdown",
      "metadata": {
        "id": "view-in-github",
        "colab_type": "text"
      },
      "source": [
        "<a href=\"https://colab.research.google.com/github/U07157111/NTHU_2023_DLBOI_HW/blob/main/hw2_report.ipynb\" target=\"_parent\"><img src=\"https://colab.research.google.com/assets/colab-badge.svg\" alt=\"Open In Colab\"/></a>"
      ]
    },
    {
      "cell_type": "markdown",
      "metadata": {
        "id": "Li0bVCTuxc6n"
      },
      "source": [
        "<div align=\"center\">\n",
        "\n",
        "# National Tsing Hua University\n",
        "\n",
        "### Fall 2023\n",
        "\n",
        "#### 11210IPT 553000\n",
        "\n",
        "#### Deep Learning in Biomedical Optical Imaging\n",
        "\n",
        "## Lab 3: Hyperparameter Tuning\n",
        "\n",
        "</div>\n"
      ]
    },
    {
      "cell_type": "code",
      "execution_count": null,
      "metadata": {
        "id": "mGJcRwdzM7pS",
        "colab": {
          "base_uri": "https://localhost:8080/"
        },
        "outputId": "efd65343-3dc4-4184-ed5b-aa2f8c8fb897"
      },
      "outputs": [
        {
          "output_type": "stream",
          "name": "stdout",
          "text": [
            "--2023-10-13 08:37:45--  https://raw.githubusercontent.com/TacoXDD/homeworks/master/dataset/train/normal.npy\n",
            "Resolving raw.githubusercontent.com (raw.githubusercontent.com)... 185.199.109.133, 185.199.108.133, 185.199.110.133, ...\n",
            "Connecting to raw.githubusercontent.com (raw.githubusercontent.com)|185.199.109.133|:443... connected.\n",
            "HTTP request sent, awaiting response... 200 OK\n",
            "Length: 65536128 (62M) [application/octet-stream]\n",
            "Saving to: ‘normal.npy’\n",
            "\n",
            "normal.npy          100%[===================>]  62.50M   205MB/s    in 0.3s    \n",
            "\n",
            "2023-10-13 08:37:47 (205 MB/s) - ‘normal.npy’ saved [65536128/65536128]\n",
            "\n",
            "--2023-10-13 08:37:47--  https://raw.githubusercontent.com/TacoXDD/homeworks/master/dataset/train/pneumonia.npy\n",
            "Resolving raw.githubusercontent.com (raw.githubusercontent.com)... 185.199.109.133, 185.199.110.133, 185.199.111.133, ...\n",
            "Connecting to raw.githubusercontent.com (raw.githubusercontent.com)|185.199.109.133|:443... connected.\n",
            "HTTP request sent, awaiting response... 200 OK\n",
            "Length: 65536128 (62M) [application/octet-stream]\n",
            "Saving to: ‘pneumonia.npy’\n",
            "\n",
            "pneumonia.npy       100%[===================>]  62.50M   330MB/s    in 0.2s    \n",
            "\n",
            "2023-10-13 08:37:50 (330 MB/s) - ‘pneumonia.npy’ saved [65536128/65536128]\n",
            "\n"
          ]
        }
      ],
      "source": [
        "# # Download dataset\n",
        "!wget https://raw.githubusercontent.com/TacoXDD/homeworks/master/dataset/train/normal.npy\n",
        "!wget https://raw.githubusercontent.com/TacoXDD/homeworks/master/dataset/train/pneumonia.npy"
      ]
    },
    {
      "cell_type": "markdown",
      "metadata": {
        "id": "w-1PsC--M7pT"
      },
      "source": [
        "## A. Data Loading and Preprocessing"
      ]
    },
    {
      "cell_type": "code",
      "execution_count": null,
      "metadata": {
        "id": "oScQ0GG6xc6r",
        "colab": {
          "base_uri": "https://localhost:8080/"
        },
        "outputId": "7a6caf4d-de72-4274-ccfa-eb6ede8b063e"
      },
      "outputs": [
        {
          "output_type": "stream",
          "name": "stdout",
          "text": [
            "Shape of abnormal_scans: (1000, 256, 256)\n",
            "Shape of normal_scans: (1000, 256, 256)\n",
            "Number of samples in train and validation are 1600 and 400.\n",
            "X_train: max value is 255.0, min value is 0.0, data type is torch.float32.\n"
          ]
        }
      ],
      "source": [
        "import torch\n",
        "from torch.utils.data import DataLoader, TensorDataset, random_split\n",
        "\n",
        "import numpy as np\n",
        "\n",
        "# Load Dataset\n",
        "abnormal_scans = np.load('pneumonia.npy')\n",
        "normal_scans = np.load('normal.npy')\n",
        "\n",
        "print(f'Shape of abnormal_scans: {abnormal_scans.shape}')\n",
        "print(f'Shape of normal_scans: {normal_scans.shape}')\n",
        "\n",
        "# For the data having presence of pneumonia assign 1, for the normal ones assign 0.\n",
        "\n",
        "abnormal_labels = np.ones((abnormal_scans.shape[0],))\n",
        "normal_labels = np.zeros((normal_scans.shape[0],))\n",
        "\n",
        "split_point = 800\n",
        "\n",
        "x_train = np.concatenate((abnormal_scans[:split_point], normal_scans[:split_point]), axis=0)\n",
        "y_train = np.concatenate((abnormal_labels[:split_point], normal_labels[:split_point]), axis=0)\n",
        "x_val = np.concatenate((abnormal_scans[split_point:], normal_scans[split_point:]), axis=0)\n",
        "y_val = np.concatenate((abnormal_labels[split_point:], normal_labels[split_point:]), axis=0)\n",
        "\n",
        "# Convert to PyTorch tensors\n",
        "x_train = torch.from_numpy(x_train).float()\n",
        "y_train = torch.from_numpy(y_train).long()\n",
        "x_val = torch.from_numpy(x_val).float()\n",
        "y_val = torch.from_numpy(y_val).long()\n",
        "\n",
        "# Create datasets\n",
        "train_dataset = TensorDataset(x_train, y_train)\n",
        "val_dataset = TensorDataset(x_val, y_val)\n",
        "\n",
        "# Create dataloaders\n",
        "train_loader = DataLoader(train_dataset, batch_size=32, shuffle=True)\n",
        "val_loader = DataLoader(val_dataset, batch_size=32, shuffle=False)\n",
        "\n",
        "print(f'Number of samples in train and validation are {len(train_loader.dataset)} and {len(val_loader.dataset)}.')\n",
        "print(f'X_train: max value is {x_train.max().item()}, min value is {x_train.min().item()}, data type is {x_train.dtype}.')"
      ]
    },
    {
      "cell_type": "markdown",
      "metadata": {
        "id": "oaLGtT28xc6s"
      },
      "source": [
        "## B. Defining Neural Networks in PyTorch"
      ]
    },
    {
      "cell_type": "code",
      "execution_count": null,
      "metadata": {
        "id": "JZP0t5kOxc6s",
        "colab": {
          "base_uri": "https://localhost:8080/"
        },
        "outputId": "c9f3f0ac-7872-4917-ac8d-a4cb86adbeaa"
      },
      "outputs": [
        {
          "output_type": "stream",
          "name": "stdout",
          "text": [
            "Sequential(\n",
            "  (0): Flatten(start_dim=1, end_dim=-1)\n",
            "  (1): Linear(in_features=65536, out_features=256, bias=True)\n",
            "  (2): Tanhshrink()\n",
            "  (3): Linear(in_features=256, out_features=1, bias=True)\n",
            ")\n"
          ]
        }
      ],
      "source": [
        "import torch.nn as nn\n",
        "\n",
        "#Model in Lab 2\n",
        "model = nn.Sequential(\n",
        "    nn.Flatten(),\n",
        "    nn.Linear(256*256*1, 256),\n",
        "    nn.Tanhshrink(),\n",
        "    nn.Linear(256, 1)\n",
        ").cuda()\n",
        "\n",
        "\n",
        "\n",
        "print(model)"
      ]
    },
    {
      "cell_type": "markdown",
      "metadata": {
        "id": "nvLTU-IfZLqn"
      },
      "source": [
        "## C. Training the Neural Network"
      ]
    },
    {
      "cell_type": "code",
      "execution_count": null,
      "metadata": {
        "id": "45ol4lpVxc6t",
        "colab": {
          "base_uri": "https://localhost:8080/"
        },
        "outputId": "e3491f1a-4c59-4156-fc3b-5d2025b14281"
      },
      "outputs": [
        {
          "output_type": "stream",
          "name": "stdout",
          "text": [
            "Epoch 1/30, Train Loss: 0.2499, Train Accuracy: 96.31%, Val Loss: 0.5883, Val Accuracy: 93.50%\n",
            "Epoch 2/30, Train Loss: 0.0201, Train Accuracy: 99.19%, Val Loss: 0.4924, Val Accuracy: 93.75%\n",
            "Epoch 3/30, Train Loss: 0.0030, Train Accuracy: 99.94%, Val Loss: 0.4676, Val Accuracy: 93.25%\n",
            "Epoch 4/30, Train Loss: 0.0026, Train Accuracy: 99.94%, Val Loss: 0.4770, Val Accuracy: 93.50%\n",
            "Epoch 5/30, Train Loss: 0.0006, Train Accuracy: 100.00%, Val Loss: 0.4442, Val Accuracy: 93.50%\n",
            "Epoch 6/30, Train Loss: 0.0004, Train Accuracy: 100.00%, Val Loss: 0.4480, Val Accuracy: 93.50%\n",
            "Epoch 7/30, Train Loss: 0.0004, Train Accuracy: 100.00%, Val Loss: 0.4540, Val Accuracy: 93.50%\n",
            "Epoch 8/30, Train Loss: 0.0003, Train Accuracy: 100.00%, Val Loss: 0.4554, Val Accuracy: 93.50%\n",
            "Epoch 9/30, Train Loss: 0.0003, Train Accuracy: 100.00%, Val Loss: 0.4596, Val Accuracy: 93.50%\n",
            "Epoch 10/30, Train Loss: 0.0002, Train Accuracy: 100.00%, Val Loss: 0.4661, Val Accuracy: 93.50%\n",
            "Epoch 11/30, Train Loss: 0.0002, Train Accuracy: 100.00%, Val Loss: 0.4678, Val Accuracy: 93.50%\n",
            "Epoch 12/30, Train Loss: 0.0002, Train Accuracy: 100.00%, Val Loss: 0.4729, Val Accuracy: 93.50%\n",
            "Epoch 13/30, Train Loss: 0.0002, Train Accuracy: 100.00%, Val Loss: 0.4800, Val Accuracy: 93.75%\n",
            "Epoch 14/30, Train Loss: 0.0002, Train Accuracy: 100.00%, Val Loss: 0.4816, Val Accuracy: 93.50%\n",
            "Epoch 15/30, Train Loss: 0.0002, Train Accuracy: 100.00%, Val Loss: 0.4815, Val Accuracy: 93.50%\n",
            "Epoch 16/30, Train Loss: 0.0002, Train Accuracy: 100.00%, Val Loss: 0.4863, Val Accuracy: 93.50%\n",
            "Epoch 17/30, Train Loss: 0.0001, Train Accuracy: 100.00%, Val Loss: 0.4896, Val Accuracy: 93.50%\n",
            "Epoch 18/30, Train Loss: 0.0001, Train Accuracy: 100.00%, Val Loss: 0.4927, Val Accuracy: 93.50%\n",
            "Epoch 19/30, Train Loss: 0.0001, Train Accuracy: 100.00%, Val Loss: 0.4966, Val Accuracy: 93.75%\n",
            "Epoch 20/30, Train Loss: 0.0001, Train Accuracy: 100.00%, Val Loss: 0.5018, Val Accuracy: 93.50%\n",
            "Epoch 21/30, Train Loss: 0.0001, Train Accuracy: 100.00%, Val Loss: 0.5061, Val Accuracy: 93.50%\n",
            "Epoch 22/30, Train Loss: 0.0001, Train Accuracy: 100.00%, Val Loss: 0.5074, Val Accuracy: 93.75%\n",
            "Epoch 23/30, Train Loss: 0.0001, Train Accuracy: 100.00%, Val Loss: 0.5129, Val Accuracy: 93.50%\n",
            "Epoch 24/30, Train Loss: 0.0001, Train Accuracy: 100.00%, Val Loss: 0.5174, Val Accuracy: 93.50%\n",
            "Epoch 25/30, Train Loss: 0.0001, Train Accuracy: 100.00%, Val Loss: 0.5163, Val Accuracy: 93.75%\n",
            "Epoch 26/30, Train Loss: 0.0001, Train Accuracy: 100.00%, Val Loss: 0.5205, Val Accuracy: 93.50%\n",
            "Epoch 27/30, Train Loss: 0.0001, Train Accuracy: 100.00%, Val Loss: 0.5227, Val Accuracy: 93.50%\n",
            "Epoch 28/30, Train Loss: 0.0001, Train Accuracy: 100.00%, Val Loss: 0.5264, Val Accuracy: 93.50%\n",
            "Epoch 29/30, Train Loss: 0.0001, Train Accuracy: 100.00%, Val Loss: 0.5313, Val Accuracy: 93.50%\n",
            "Epoch 30/30, Train Loss: 0.0001, Train Accuracy: 100.00%, Val Loss: 0.5307, Val Accuracy: 93.50%\n"
          ]
        }
      ],
      "source": [
        "import torch.optim as optim\n",
        "from torch.optim.lr_scheduler import CosineAnnealingLR, StepLR\n",
        "a=0\n",
        "b=0\n",
        "c=0\n",
        "d=0\n",
        "train_losses = []\n",
        "val_losses = []\n",
        "train_accuracies = []\n",
        "val_accuracies = []\n",
        "\n",
        "epochs = 30\n",
        "best_val_loss = float('inf')\n",
        "\n",
        "# Criterion and Optimizer\n",
        "criterion = nn.BCEWithLogitsLoss()\n",
        "optimizer = optim.Adam(model.parameters(), lr=1e-3)\n",
        "lr_scheduler = CosineAnnealingLR(optimizer, T_max=len(train_loader)*epochs, eta_min=0)\n",
        "# lr_scheduler = StepLR(optimizer, step_size=10, gamma=0.1)\n",
        "\n",
        "for epoch in range(epochs):\n",
        "    # Training\n",
        "    model.train()\n",
        "    total_loss = 0.0\n",
        "    train_correct = 0\n",
        "    total_train_samples = 0\n",
        "\n",
        "    for images, labels in train_loader:\n",
        "        images = images.cuda()\n",
        "        images = images / 255.\n",
        "        labels = labels.cuda()\n",
        "        optimizer.zero_grad()\n",
        "        outputs = model(images)\n",
        "\n",
        "        labels = labels.float().unsqueeze(1)\n",
        "\n",
        "        loss = criterion(outputs, labels)\n",
        "        loss.backward()\n",
        "        optimizer.step()\n",
        "        total_loss += loss.item()\n",
        "\n",
        "        train_predicted = torch.sigmoid(outputs) > 0.5\n",
        "        train_correct += (train_predicted.float() == labels).sum().item()\n",
        "        total_train_samples += labels.size(0)\n",
        "\n",
        "    avg_train_loss = total_loss / len(train_loader)\n",
        "    train_accuracy = 100. * train_correct / total_train_samples\n",
        "\n",
        "    # Validation\n",
        "    model.eval()\n",
        "    total_val_loss = 0.0\n",
        "    correct = 0\n",
        "    total = 0\n",
        "    with torch.no_grad():\n",
        "        for images, labels in val_loader:\n",
        "            images = images.cuda()\n",
        "            images = images / 255.\n",
        "            labels = labels.cuda()\n",
        "            outputs = model(images)\n",
        "\n",
        "            labels = labels.float().unsqueeze(1)\n",
        "\n",
        "            loss = criterion(outputs, labels)\n",
        "            total_val_loss += loss.item()\n",
        "\n",
        "            predicted = torch.sigmoid(outputs) > 0.5\n",
        "            correct += (predicted.float() == labels).sum().item()\n",
        "            total += labels.size(0)\n",
        "\n",
        "    avg_val_loss = total_val_loss / len(val_loader)\n",
        "    val_accuracy = 100. * correct / total\n",
        "\n",
        "    print(f'Epoch {epoch+1}/{epochs}, Train Loss: {avg_train_loss:.4f}, Train Accuracy: {train_accuracy:.2f}%, Val Loss: {avg_val_loss:.4f}, Val Accuracy: {val_accuracy:.2f}%')\n",
        "    a+=avg_train_loss\n",
        "    b+=train_accuracy\n",
        "    c+=avg_val_loss\n",
        "    d+=val_accuracy\n",
        "    # Learning rate update\n",
        "    lr_scheduler.step()\n",
        "\n",
        "    # Checkpoint\n",
        "    if avg_val_loss < best_val_loss:\n",
        "        best_val_loss = avg_val_loss\n",
        "        torch.save(model.state_dict(), 'model_classification.pth')\n",
        "\n",
        "    # Store performance\n",
        "    train_losses.append(avg_train_loss)\n",
        "    train_accuracies.append(train_accuracy)\n",
        "    val_losses.append(avg_val_loss)\n",
        "    val_accuracies.append(val_accuracy)"
      ]
    },
    {
      "cell_type": "markdown",
      "metadata": {
        "id": "pjmYxAJnxc6t"
      },
      "source": [
        "### Visualizing model performance"
      ]
    },
    {
      "cell_type": "code",
      "execution_count": null,
      "metadata": {
        "id": "pHpS0Q7vxc6t",
        "outputId": "c574e3e5-c4aa-4423-ed62-53c898401d20",
        "colab": {
          "base_uri": "https://localhost:8080/",
          "height": 401
        }
      },
      "outputs": [
        {
          "output_type": "display_data",
          "data": {
            "text/plain": [
              "<Figure size 1500x500 with 2 Axes>"
            ],
            "image/png": "[encoded data removed]"
          },
          "metadata": {}
        },
        {
          "output_type": "stream",
          "name": "stdout",
          "text": [
            "0.03488691685124293 99.075 0.43165352390699757 93.125\n"
          ]
        }
      ],
      "source": [
        "import matplotlib.pyplot as plt\n",
        "\n",
        "fig, ax = plt.subplots(1, 2, figsize=(15, 5))\n",
        "\n",
        "# Plotting training and validation accuracy\n",
        "ax[0].plot(train_accuracies)\n",
        "ax[0].plot(val_accuracies)\n",
        "ax[0].set_title('Model Accuracy')\n",
        "ax[0].set_xlabel('Epochs')\n",
        "ax[0].set_ylabel('Accuracy')\n",
        "ax[0].legend(['Train', 'Val'])\n",
        "\n",
        "# Plotting training and validation loss\n",
        "ax[1].plot(train_losses)\n",
        "ax[1].plot(val_losses)\n",
        "ax[1].set_title('Model Loss')\n",
        "ax[1].set_xlabel('Epochs')\n",
        "ax[1].set_ylabel('Loss')\n",
        "ax[1].legend(['Train', 'Val'])\n",
        "\n",
        "plt.show()\n",
        "print(a/30,b/30,c/30,d/30)"
      ]
    },
    {
      "cell_type": "code",
      "execution_count": null,
      "metadata": {
        "id": "JgzBShrVo_sx"
      },
      "outputs": [],
      "source": []
    }
  ],
  "metadata": {
    "accelerator": "GPU",
    "colab": {
      "gpuType": "T4",
      "provenance": [],
      "include_colab_link": true
    },
    "kernelspec": {
      "display_name": "Python 3 (ipykernel)",
      "language": "python",
      "name": "python3"
    },
    "language_info": {
      "codemirror_mode": {
        "name": "ipython",
        "version": 3
      },
      "file_extension": ".py",
      "mimetype": "text/x-python",
      "name": "python",
      "nbconvert_exporter": "python",
      "pygments_lexer": "ipython3",
      "version": "3.8.13"
    }
  },
  "nbformat": 4,
  "nbformat_minor": 0
}